{
 "cells": [
  {
   "cell_type": "code",
   "execution_count": 35,
   "metadata": {},
   "outputs": [],
   "source": [
    "%matplotlib inline\n",
    "from CartPole import CartPole, remap_angle, _remap_angle, _loss, loss, move_cart\n",
    "import numpy as np\n",
    "import matplotlib.pyplot as plt"
   ]
  },
  {
   "cell_type": "code",
   "execution_count": 91,
   "metadata": {},
   "outputs": [],
   "source": [
    "plot_path = 'plots/Task2/'"
   ]
  },
  {
   "cell_type": "code",
   "execution_count": 81,
   "metadata": {
    "scrolled": false
   },
   "outputs": [],
   "source": [
    "def kernel(X, X_dash, sigma=[0.5,1,0.333,1.667]):\n",
    "    \n",
    "    try:\n",
    "        assert X.shape == 4 and X_dash.shape == 4, 'shape error, X: {} X_dash: {}'.format(X.shape, X_dash.shape)\n",
    "    except:\n",
    "        assert len(X) == 4 and len(X_dash) == 4, 'length of list error, X: {}, X_dash: {}'.format(len(X), len(X_dash))\n",
    "        X = np.array(X)\n",
    "        X_dash = np.array(X_dash)\n",
    "        \n",
    "    assert all(sigma) >= 0, 'negative value of variance given in sigma: {}'.format(sigma)\n",
    "    \n",
    "    return np.exp(-np.sum(np.divide(np.array([(X[i]-X_dash[i])**2 if i != 2  else (np.sin(X[i]-X_dash[i]/2))**2 for i in range(4)]), 2*np.square(sigma))))"
   ]
  },
  {
   "cell_type": "code",
   "execution_count": 89,
   "metadata": {},
   "outputs": [],
   "source": [
    "X = np.array([0, np.random.uniform(-10, 10), np.random.uniform(-np.pi,np.pi), np.random.uniform(-15,15)])\n",
    "X_dash_array = np.array([[np.random.normal(), X[1], X[2], X[3]] for i in range(500)])"
   ]
  },
  {
   "cell_type": "code",
   "execution_count": 93,
   "metadata": {},
   "outputs": [
    {
     "data": {
      "image/png": "[encoded data removed]",
      "text/plain": [
       "<Figure size 432x288 with 1 Axes>"
      ]
     },
     "metadata": {
      "needs_background": "light"
     },
     "output_type": "display_data"
    }
   ],
   "source": [
    "for i,X_dash in enumerate(X_dash_array):\n",
    "    plt.scatter(X_dash[0], kernel(X, X_dash), color='r')\n",
    "    plt.plot([X[0]]*30, np.linspace(min([kernel(X,X_dash_) for X_dash_ in X_dash_array]), max([kernel(X,X_dash_) for X_dash_ in X_dash_array]), 30), color='g')\n",
    "    \n",
    "plt.savefig(plot_path + 'kernel_plot')\n",
    "    "
   ]
  }
 ],
 "metadata": {
  "kernelspec": {
   "display_name": "Python 3",
   "language": "python",
   "name": "python3"
  },
  "language_info": {
   "codemirror_mode": {
    "name": "ipython",
    "version": 3
   },
   "file_extension": ".py",
   "mimetype": "text/x-python",
   "name": "python",
   "nbconvert_exporter": "python",
   "pygments_lexer": "ipython3",
   "version": "3.7.3"
  }
 },
 "nbformat": 4,
 "nbformat_minor": 4
}
