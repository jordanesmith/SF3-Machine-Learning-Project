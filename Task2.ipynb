{
 "cells": [
  {
   "cell_type": "code",
   "execution_count": 9,
   "metadata": {},
   "outputs": [],
   "source": [
    "%matplotlib inline\n",
    "from CartPole import CartPole, remap_angle, _remap_angle, _loss, loss, move_cart\n",
    "import numpy as np"
   ]
  },
  {
   "cell_type": "code",
   "execution_count": 21,
   "metadata": {
    "scrolled": false
   },
   "outputs": [],
   "source": [
    "def kernel(X, X_dash, sigma=[1.5,3,1,5]):\n",
    "    \n",
    "    try:\n",
    "        assert X.shape == 4 and X_dash.shape == 4, 'shape error, X: {} X_dash: {}'.format(X.shape, X_dash.shape)\n",
    "    except:\n",
    "        assert len(X) == 4 and len(X_dash) == 4, 'length of list error, X: {}, X_dash: {}'.format(len(X), len(X_dash))\n",
    "        X = np.array(X)\n",
    "        X_dash = np.array(X_dash)\n",
    "        \n",
    "    assert all(sigma) >= 0, 'negative value of variance given in sigma: {}'.format(sigma)\n",
    "    \n",
    "    return np.exp(-np.sum(np.divide(np.array([(X[i]-X_dash[i])**2 if i != 2  else (np.sin(X[i]-X_dash[i]/2))**2 for i in range(4)]), 2*np.square(sigma))))"
   ]
  },
  {
   "cell_type": "code",
   "execution_count": 22,
   "metadata": {},
   "outputs": [
    {
     "data": {
      "text/plain": [
       "1.0"
      ]
     },
     "execution_count": 22,
     "metadata": {},
     "output_type": "execute_result"
    }
   ],
   "source": [
    "X = [0,0,0,0]\n",
    "X_dash = [0,0,0,0]\n",
    "kernel(X, X_dash)"
   ]
  },
  {
   "cell_type": "code",
   "execution_count": null,
   "metadata": {},
   "outputs": [],
   "source": []
  }
 ],
 "metadata": {
  "kernelspec": {
   "display_name": "Python 3",
   "language": "python",
   "name": "python3"
  },
  "language_info": {
   "codemirror_mode": {
    "name": "ipython",
    "version": 3
   },
   "file_extension": ".py",
   "mimetype": "text/x-python",
   "name": "python",
   "nbconvert_exporter": "python",
   "pygments_lexer": "ipython3",
   "version": "3.7.3"
  }
 },
 "nbformat": 4,
 "nbformat_minor": 4
}
