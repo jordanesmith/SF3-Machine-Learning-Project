{
 "cells": [
  {
   "cell_type": "code",
   "execution_count": 83,
   "metadata": {},
   "outputs": [],
   "source": [
    "%matplotlib inline\n",
    "from CartPole import *\n",
    "import numpy as np\n",
    "import matplotlib.pyplot as plt\n",
    "import scipy.optimize"
   ]
  },
  {
   "cell_type": "markdown",
   "metadata": {},
   "source": [
    "# Task 2"
   ]
  },
  {
   "cell_type": "code",
   "execution_count": 2,
   "metadata": {},
   "outputs": [],
   "source": [
    "plot_path = 'plots/Task2/'\n",
    "index_to_variable = {0 : 'cart_location', 1 : 'cart_velocity', 2 : 'pole_angle', 3 : 'pole_velocity', 4 : 'action'}\n",
    "index_pair_list = [[0,1],[0,2],[0,3],[1,2],[1,3],[2,3],[0,4],[1,4],[2,4],[3,4]]\n",
    "no_samples = 20\n",
    "x_range_for_index = {0 : np.linspace(-5,5,no_samples), 1 : np.linspace(-10,10,no_samples), \n",
    "                     2 : np.linspace(-np.pi,np.pi,no_samples), 3 : np.linspace(-15,15,no_samples), \n",
    "                     4 : np.linspace(-20,20,no_samples)}\n",
    "\n",
    "lam = 0.00001\n",
    "n = 2000\n",
    "no_RBC = 320\n",
    "train_proportion = 0.8"
   ]
  },
  {
   "cell_type": "code",
   "execution_count": 3,
   "metadata": {
    "scrolled": false
   },
   "outputs": [],
   "source": [
    "def kernel(X, X_dash, sigma):\n",
    "\n",
    "    if type(X) == list: X = np.array(X)\n",
    "    if type(X_dash) == list: X_dash = np.array([X_dash])\n",
    "    \n",
    "    try:\n",
    "        squared_numerator = np.array([(X[i]-X_dash[i])**2 if i != 2  else (np.sin((X[i]-X_dash[i])/2))**2 for i in range(5)])\n",
    "    except:\n",
    "        print(X, X_dash, '<------------ fix this')\n",
    "    return np.exp(-np.sum(np.divide(squared_numerator, 2*np.square(sigma))))"
   ]
  },
  {
   "cell_type": "code",
   "execution_count": 4,
   "metadata": {},
   "outputs": [],
   "source": [
    "def generate_K(X, M, sigma, kernel=kernel):\n",
    "    if type(M) != list: M = np.array(M)\n",
    "        \n",
    "    for i,x_location in enumerate(X):\n",
    "        K_row = np.array([kernel(x_location, RBF_x, sigma) for RBF_x in X[M]])\n",
    "        try:\n",
    "            KnM = np.vstack((KnM, K_row))\n",
    "        except:\n",
    "#             print('first row of K: {} <---------------------- this should only happen once'.format(K_row.shape))\n",
    "            KnM = K_row\n",
    "            \n",
    "    return KnM"
   ]
  },
  {
   "cell_type": "code",
   "execution_count": 5,
   "metadata": {},
   "outputs": [],
   "source": [
    "def train_alpha(x_train, y_train, no_RBC, sigma, kernel=kernel, lam=0.00001):\n",
    "    \n",
    "    M_vals = np.random.randint(0, high=n*train_proportion, size=no_RBC)\n",
    "    X_i_vals = x_train[M_vals]\n",
    "    KnM_ = generate_K(x_train, M_vals, sigma, kernel)\n",
    "    KMM_ = generate_K(X_i_vals, [i for i in range(M_vals.size)], sigma, kernel)\n",
    "    alpha = np.linalg.lstsq(np.matmul(KnM_.T, KnM_) + lam*KMM_, np.matmul(KnM_.T, y_train))[0]\n",
    "\n",
    "#     alpha = np.linalg.lstsq(np.matmul(KnM_.T, KnM_), np.matmul(KnM_.T, y_train))[0]\n",
    "#     alpha = np.matmul(np.linalg.pinv(KnM_), y_train).T\n",
    "#     print('alpha.shape: {}'.format(alpha.shape))\n",
    "    \n",
    "    return alpha, X_i_vals"
   ]
  },
  {
   "cell_type": "code",
   "execution_count": 6,
   "metadata": {},
   "outputs": [],
   "source": [
    "def predict(x_test, alpha, X_i_vals, sigma, kernel=kernel):\n",
    "    \n",
    "    KnM_test= [None, None]\n",
    "    for X_i in X_i_vals:\n",
    "        if x_test.size > 4:\n",
    "            assert x_test.size % 5 == 0, 'x_test.size: ' + str(x_test.size)\n",
    "            \n",
    "            if x_test.ndim == 1:\n",
    "                KnM_test_row = kernel(X_i, x_test, sigma=sigma)\n",
    "            else:\n",
    "                KnM_test_row = np.array([kernel(X_i, x_test_, sigma=sigma) for x_test_ in x_test])\n",
    "            \n",
    "        elif x_test.size == 4:\n",
    "            if x_test.ndim > 1: x_test = x_test[0]\n",
    "            KnM_test_row = kernel(X_i, x_test, sigma=sigma)\n",
    "        try:\n",
    "            KnM_test = np.vstack((KnM_test, KnM_test_row))\n",
    "        except:\n",
    "            KnM_test = KnM_test_row\n",
    "    predictions = np.matmul(KnM_test.T, alpha)\n",
    "    \n",
    "    return predictions"
   ]
  },
  {
   "cell_type": "code",
   "execution_count": 7,
   "metadata": {},
   "outputs": [],
   "source": [
    "def display_RMSE(predictions, y_test):\n",
    "    targets = y_test            \n",
    "    return [np.sqrt(np.mean((predictions[:,j]-targets[:,j])**2)) for j in range(4)] "
   ]
  },
  {
   "cell_type": "markdown",
   "metadata": {},
   "source": [
    "## plot convergence of model for varying no. basis functions"
   ]
  },
  {
   "cell_type": "code",
   "execution_count": 8,
   "metadata": {
    "scrolled": false
   },
   "outputs": [],
   "source": [
    "# i_range = [10, 20, 40, 80, 160, 320] # list of no. radial basis functions to try\n",
    "# n_range = [500, 1000, 2000, 4000] # list of sizes of dataset to try\n",
    "\n",
    "# fig,axs = plt.subplots(2,2,figsize=(12,9))\n",
    "# for n in n_range:\n",
    "#     x,y = generate_data(n)\n",
    "#     x_train, y_train, x_test, y_test = x[:int(n*train_proportion)], y[:int(n*train_proportion)], x[int(n*train_proportion):], y[int(n*train_proportion):]\n",
    "#     sigma = np.std(x_train, axis=0)\n",
    "    \n",
    "#     RMSE = None\n",
    "    \n",
    "#     for i in i_range:\n",
    "#         alpha, X_i_vals = train_alpha(x_train, y_train, i, sigma)\n",
    "#         predictions = predict(x_test, alpha, X_i_vals, sigma)\n",
    "#         RMSE_ = np.array(display_RMSE(predictions, y_test))\n",
    "        \n",
    "#         try:\n",
    "#             RMSE = np.vstack((RMSE, RMSE_))\n",
    "#         except:\n",
    "#             RMSE = RMSE_\n",
    "#     for j in range(4):\n",
    "#         axs[int(round((j+1)/4,0)),j%2].plot(i_range, RMSE[:,j], label='N = {}'.format(str(n)))\n",
    "#         axs[int(round((j+1)/4,0)),j%2].legend()\n",
    "#         axs[int(round((j+1)/4,0)),j%2].set_title(index_to_variable[j])\n",
    "#         axs[int(round((j+1)/4,0)),j%2].set_xlabel('no. basis functions')\n",
    "#         axs[int(round((j+1)/4,0)),j%2].set_ylabel('RMSE')\n",
    "# fig.tight_layout()\n",
    "# # plt.savefig(plot_path + 'convergence_of_non_linear_model')"
   ]
  },
  {
   "cell_type": "markdown",
   "metadata": {},
   "source": [
    "## Plot model predictions vs actual values"
   ]
  },
  {
   "cell_type": "code",
   "execution_count": 34,
   "metadata": {},
   "outputs": [],
   "source": [
    "x,y = generate_data(n)\n",
    "x_train, y_train, x_test, y_test = x[:int(n*train_proportion)], y[:int(n*train_proportion)], x[int(n*train_proportion):], y[int(n*train_proportion):]\n",
    "sigma = np.std(x_train, axis=0)\n",
    "\n",
    "# alpha, X_i_vals = train_alpha(x_train, y_train, no_RBC, sigma)\n",
    "# predictions = predict(x_test, alpha, X_i_vals, sigma)"
   ]
  },
  {
   "cell_type": "code",
   "execution_count": 10,
   "metadata": {},
   "outputs": [],
   "source": [
    "# fig,axs = plt.subplots(2,2,figsize=(12,9))\n",
    "# for j in range(4):\n",
    "#     ul = max(max(predictions[:,j]), max(y_test[:,j]))\n",
    "#     ll = min(min(predictions[:,j]), min(y_test[:,j]))\n",
    "#     axs[int(round((j+1)/4,0)),j%2].scatter(predictions[:,j], y_test[:,j])\n",
    "#     axs[int(round((j+1)/4,0)),j%2].plot([ll,ul],[ll,ul], color='g')\n",
    "#     axs[int(round((j+1)/4,0)),j%2].set_title(index_to_variable[j])\n",
    "#     axs[int(round((j+1)/4,0)),j%2].set_xlabel('prediction')\n",
    "#     axs[int(round((j+1)/4,0)),j%2].set_ylabel('actual')\n",
    "    \n",
    "#     fig.tight_layout()\n",
    "    \n",
    "# # plt.savefig(plot_path + 'prediction_accuracy_with_action')"
   ]
  },
  {
   "cell_type": "markdown",
   "metadata": {},
   "source": [
    "## Plot contours for non linear model"
   ]
  },
  {
   "cell_type": "code",
   "execution_count": 11,
   "metadata": {
    "scrolled": true
   },
   "outputs": [],
   "source": [
    "# for index_pair in index_pair_list:\n",
    "#     plot_y_contour_as_difference_in_x(x_test[0], index_pair, range_x_pair_finder(index_pair, x_range_for_index), \n",
    "#                                       index_to_variable, dynamics='predicted', model=predict, alpha=alpha, \n",
    "#                                       X_i_vals=X_i_vals, sigma=sigma)\n",
    "# #     plt.savefig(plot_path+'contour_plot_predictions_with_action'+str(index_pair))\n",
    "# #     plt.close()"
   ]
  },
  {
   "cell_type": "markdown",
   "metadata": {},
   "source": [
    "## Testing different values of lambda"
   ]
  },
  {
   "cell_type": "code",
   "execution_count": 12,
   "metadata": {},
   "outputs": [],
   "source": [
    "# n = 500\n",
    "# x,y = generate_data(n)\n",
    "# x_train, y_train, x_test, y_test = x[:int(n*train_proportion)], y[:int(n*train_proportion)], x[int(n*train_proportion):], y[int(n*train_proportion):]\n",
    "# sigma = np.std(x_train, axis=0)\n",
    "# initial_x = x_test[0]\n",
    "\n",
    "# RMSE_data = []\n",
    "# for lam in [0.1**i for i in range(7)]:\n",
    "#     alpha, X_i_vals = train_alpha(x_train, y_train, 40, sigma, lam=lam)\n",
    "\n",
    "#     prediction_history, y_history = project_x_using_model(x[0], predict, steps=10, remap_angle=False, alpha=alpha, \n",
    "#                                                            X_i_vals=X_i_vals, sigma=sigma)\n",
    "#     RMSE_data.append(display_RMSE(prediction_history, y_history))\n",
    "    \n",
    "# RMSE_data = np.array(RMSE_data)\n",
    "\n",
    "# fig,ax = plt.subplots(1,1,figsize=(8,6))\n",
    "# for j in range(4):\n",
    "#     ax.plot([0.1**i for i in range(7)], RMSE_data[:,j], label=index_to_variable[j])\n",
    "# ax.legend()\n",
    "# ax.set_xscale('log')\n",
    "# ax.set_xlabel('lambda value')\n",
    "# ax.set_ylabel('RMSE')\n",
    "# ax.set_title('RMSE error for different values of lambda')\n",
    "# # plt.savefig(plot_path + 'RMSE_different_lambda')"
   ]
  },
  {
   "cell_type": "markdown",
   "metadata": {},
   "source": [
    "## Rollout with model prediction"
   ]
  },
  {
   "cell_type": "code",
   "execution_count": 13,
   "metadata": {
    "scrolled": false
   },
   "outputs": [],
   "source": [
    "# steps = 10\n",
    "\n",
    "# oscillating_initial_condition = np.array([x_test[0][i] if i != 3 else np.random.uniform(5,10) for i in range(4)])\n",
    "# print(oscillating_initial_condition)\n",
    "\n",
    "# sigma = np.std(x_train, axis=0)\n",
    "# alpha, X_i_vals = train_alpha(x_train, y_train, no_RBC, sigma)\n",
    "\n",
    "# prediction_history, y_history = project_x_using_model(x_test[0], predict, steps=steps, remap_angle=False, \n",
    "#                                                       compound_predictions=False, alpha=alpha, \n",
    "#                                                       X_i_vals=X_i_vals, sigma=sigma)\n",
    "\n",
    "# prediction_history[:,2] = np.array([_remap_angle(angle) for angle in prediction_history[:,2]])\n",
    "# y_history[:,2] = np.array([_remap_angle(angle) for angle in y_history[:,2]])\n",
    "\n",
    "# plot_prediction_vs_actual_over_time(prediction_history, y_history, title='Initial Conditions: {}'.format(x_test[0]))\n",
    "# # plt.savefig(plot_path + 'model_rollout_prediction_with_action_{}_steps'.format(steps))"
   ]
  },
  {
   "cell_type": "markdown",
   "metadata": {},
   "source": [
    "## Model performance scanning over 1 variable"
   ]
  },
  {
   "cell_type": "code",
   "execution_count": 14,
   "metadata": {},
   "outputs": [],
   "source": [
    "# plot_y_scans(x_test[0], index_to_variable, x_range_for_index, predict, alpha=alpha, \n",
    "#              X_i_vals=X_i_vals, sigma=sigma)\n",
    "# # plt.savefig(plot_path + 'model_accuracy_scan_over_1_variable_with_action')"
   ]
  },
  {
   "cell_type": "markdown",
   "metadata": {},
   "source": [
    "## Introducing the loss function"
   ]
  },
  {
   "cell_type": "code",
   "execution_count": 15,
   "metadata": {},
   "outputs": [],
   "source": [
    "# plt.plot(np.linspace(0,2,20), [loss([0,0,i,0]) for i in np.linspace(0,2,20)])"
   ]
  },
  {
   "cell_type": "code",
   "execution_count": 16,
   "metadata": {},
   "outputs": [],
   "source": [
    "def project_loss(initial_x, steps=1):\n",
    "    \n",
    "    cp = CartPole()\n",
    "    cp.cart_location, cp.cart_velocity, cp.pole_angle, cp.pole_velocity, action = initial_x\n",
    "    loss_history = [loss(initial_x[:-1])]\n",
    "    y_history = np.array([initial_x])\n",
    "    \n",
    "    for step in range(steps):\n",
    "        cp.performAction(action)\n",
    "        cp.remap_angle()\n",
    "        y_ = np.array([cp.cart_location, cp.cart_velocity, cp.pole_angle, cp.pole_velocity, action])\n",
    "        loss_ = loss(y_[:-1])\n",
    "        loss_history.append(loss_)\n",
    "        y_history = np.vstack((y_history, y_))\n",
    "        \n",
    "    \n",
    "    return np.array(loss_history), y_history"
   ]
  },
  {
   "cell_type": "code",
   "execution_count": 17,
   "metadata": {},
   "outputs": [],
   "source": [
    "# steps = 30\n",
    "# loss_history, y_history = project_loss([0,0,0,0.5,0.0], steps = steps)\n",
    "\n",
    "# plt.plot([i for i in range(steps+1)], loss_history)\n",
    "# plt.title('loss function over initial conditions: [0,0,0,0.5]')\n",
    "# plt.xlabel('time steps')\n",
    "# plt.ylabel('loss')\n",
    "# # plt.savefig(plot_path + 'loss_function_over_time')"
   ]
  },
  {
   "cell_type": "code",
   "execution_count": 79,
   "metadata": {},
   "outputs": [],
   "source": [
    "# def plot_loss_contours(initial_x, initial_p, index_pair, range_p_pair, index_to_variable):\n",
    "#     print(initial_x)\n",
    "#     index_1, index_2 = index_pair\n",
    "#     range_1, range_2 = range_p_pair\n",
    "    \n",
    "#     loss_grid = np.zeros((len(range_1),len(range_2)))\n",
    "    \n",
    "#     fig = plt.figure()\n",
    "#     ax = fig.add_subplot(111)\n",
    "    \n",
    "#     for i,value_1 in enumerate(range_1):\n",
    "#         for j, value_2 in enumerate(range_2):\n",
    "#             x_ = initial_x.copy()\n",
    "#             p_ = initial_p.copy()\n",
    "#             p_[index_1] = value_1\n",
    "#             p_[index_2] = value_2\n",
    "#             x_[-1] = np.dot(x_[:-1],p_)\n",
    "#             y_ = np.array(move_cart(x_, steps=1, display_plots=False, remap_angle=False))\n",
    "#             loss_y = loss(y_)\n",
    "#             loss_x = loss(initial_x.copy())\n",
    "# #             print(loss_y,loss_x,y_,x_)\n",
    "#             loss_grid[i,j] = loss_y - loss_x\n",
    "                \n",
    "#     plt.contourf(range_1, range_2, loss_grid.T)\n",
    "#     cs = ax.contourf(range_1, range_2, loss_grid.T)\n",
    "#     fig.colorbar(cs, ax=ax)\n",
    "#     plt.title('change in loss function')\n",
    "#     plt.xlabel('$p_{}$ value'.format(index_1))\n",
    "#     plt.ylabel('$p_{}$ value'.format(index_2)) \n",
    "#     print(np.max(loss_grid))\n"
   ]
  },
  {
   "cell_type": "code",
   "execution_count": 80,
   "metadata": {
    "scrolled": false
   },
   "outputs": [],
   "source": [
    "# for index_pair in [index_pair for index_pair in index_pair_list if 4 not in index_pair ]:\n",
    "#     x_ = np.zeros(5)\n",
    "#     x_[index_pair] += 0.1\n",
    "#     plot_loss_contours(x_, [0,0,0,0], index_pair, [np.linspace(-10,10,10)]*2, index_to_variable)\n",
    "#     plt.show()"
   ]
  },
  {
   "cell_type": "markdown",
   "metadata": {},
   "source": [
    "### Optimise the linear matrix P"
   ]
  },
  {
   "cell_type": "code",
   "execution_count": 163,
   "metadata": {},
   "outputs": [],
   "source": [
    "def loss_after_action_step(p, initial_x):\n",
    "    action_ = np.dot(p, initial_x[:-1])\n",
    "    x_ = initial_x.copy()\n",
    "    x_[-1] = action_\n",
    "    y_ = np.array(move_cart(x_, steps=1, display_plots=False, remap_angle=False))\n",
    "    return loss(y_[2])"
   ]
  },
  {
   "cell_type": "code",
   "execution_count": 138,
   "metadata": {
    "scrolled": false
   },
   "outputs": [
    {
     "name": "stdout",
     "output_type": "stream",
     "text": [
      "-2.5 \t [0. 0. 0. 0.]\n",
      "-2.25 \t [0. 0. 0. 0.]\n",
      "-2.0 \t [0. 0. 0. 0.]\n",
      "-1.75 \t [0. 0. 0. 0.]\n",
      "-1.5 \t [ 0.015 -0.002  0.    -0.002]\n",
      "-1.25 \t [-0.409 -0.155  0.031  0.092]\n",
      "-1.0 \t [0. 0. 0. 0.]\n",
      "-0.75 \t [ 0.517 -0.215  0.059  0.236]\n",
      "-0.5 \t [ 0.023  0.02   0.003 -0.012]\n",
      "-0.25 \t [0. 0. 0. 0.]\n",
      "0.0 \t [0.    1.253 1.494 1.385]\n",
      "0.25 \t [0. 0. 0. 0.]\n",
      "0.5 \t [0. 0. 0. 0.]\n",
      "0.75 \t [ 0.656  0.096  0.194 -0.158]\n",
      "1.0 \t [-0.269  0.049  0.008  0.098]\n",
      "1.25 \t [ 0.337 -0.091  0.018  0.094]\n",
      "1.5 \t [-0.274 -0.029  0.035 -0.08 ]\n",
      "1.75 \t [0. 0. 0. 0.]\n",
      "2.0 \t [0. 0. 0. 0.]\n",
      "2.25 \t [-0.077 -0.003  0.004 -0.017]\n",
      "2.5 \t [0. 0. 0. 0.]\n"
     ]
    }
   ],
   "source": [
    "for i in np.linspace(-2.5,2.5,21):\n",
    "    print(np.round(i,2), '\\t', np.round(scipy.optimize.minimize(loss_after_action_step, \n",
    "                                                                np.random.randint(0,1,4), \n",
    "                                                                args=([i,np.random.uniform(-0.5,0.5),\n",
    "                                                                       np.random.uniform(-0.5,0.5),\n",
    "                                                                       np.random.uniform(-0.5,0.5),0]))['x'],3))"
   ]
  },
  {
   "cell_type": "markdown",
   "metadata": {},
   "source": [
    "for initial_x values any larger than roughly 0.5, the function converges on a local minimum of [0,0,0,0].\n",
    "\n",
    "for initial_x values in the range -0.5, 0.5, the function converges on suitable values of p.\n",
    "\n",
    "Crucially, the P values found depend heavily on the initial_x values"
   ]
  },
  {
   "cell_type": "code",
   "execution_count": 203,
   "metadata": {},
   "outputs": [
    {
     "name": "stdout",
     "output_type": "stream",
     "text": [
      "[ 0.          0.         70.39494013  0.        ]\n",
      "0.001\n",
      "0.00010864283861995226\n",
      "-0.0026727264852949837\n",
      "-0.006110413129294779\n",
      "-0.0054768660920339485\n",
      "0.005891971403338854\n",
      "0.028698441318859656\n",
      "0.04531204711275509\n",
      "0.015882001449692353\n",
      "-0.0964421933506181\n"
     ]
    },
    {
     "data": {
      "image/png": "[encoded data removed]",
      "text/plain": [
       "<Figure size 432x288 with 1 Axes>"
      ]
     },
     "metadata": {
      "needs_background": "light"
     },
     "output_type": "display_data"
    }
   ],
   "source": [
    "initial_x = [0,0,0.01,0,0]\n",
    "steps = 10\n",
    "\n",
    "p = scipy.optimize.minimize(loss_after_action_step, \n",
    "                        np.random.randint(0,1,4), \n",
    "                        args=(initial_x))['x']\n",
    "print(p)\n",
    "\n",
    "\n",
    "x_ = [0,0,0.001,0,0]\n",
    "x_history = [x_.copy()]\n",
    "for step in range(steps):\n",
    "    print(x_[2])\n",
    "    action_ = np.dot(p, x_[:-1])\n",
    "    x_[-1] = action_\n",
    "    x_ = np.array(move_cart(x_, steps=1, display_plots=False, remap_angle=False))  \n",
    "    x_history.append(x_)\n",
    "    \n",
    "x_history = np.array(x_history)\n",
    "\n",
    "fig, ax = plt.subplots(1, 1)\n",
    "\n",
    "for i in range(5):\n",
    "    ax.plot([i for i in range(steps+1)], [x[i] for x in x_history], label=index_to_variable[i])\n",
    "ax.set_title('variables over time')\n",
    "ax.legend()\n",
    "ax.set_ylim(2*np.min(x_history[:,2]),0.3+2*np.max(x_history[:,2]))\n",
    "fig.tight_layout()"
   ]
  },
  {
   "cell_type": "markdown",
   "metadata": {},
   "source": [
    "Kind of stabilises"
   ]
  },
  {
   "cell_type": "code",
   "execution_count": null,
   "metadata": {},
   "outputs": [],
   "source": []
  }
 ],
 "metadata": {
  "kernelspec": {
   "display_name": "Python 3",
   "language": "python",
   "name": "python3"
  },
  "language_info": {
   "codemirror_mode": {
    "name": "ipython",
    "version": 3
   },
   "file_extension": ".py",
   "mimetype": "text/x-python",
   "name": "python",
   "nbconvert_exporter": "python",
   "pygments_lexer": "ipython3",
   "version": "3.7.3"
  }
 },
 "nbformat": 4,
 "nbformat_minor": 4
}
