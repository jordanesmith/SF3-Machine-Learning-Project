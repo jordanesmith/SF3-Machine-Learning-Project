{
 "cells": [
  {
   "cell_type": "code",
   "execution_count": 1,
   "metadata": {},
   "outputs": [],
   "source": [
    "%matplotlib inline\n",
    "from CartPole import *\n",
    "import numpy as np\n",
    "import matplotlib.pyplot as plt\n",
    "import scipy.optimize"
   ]
  },
  {
   "cell_type": "markdown",
   "metadata": {},
   "source": [
    "# Task 2"
   ]
  },
  {
   "cell_type": "code",
   "execution_count": 2,
   "metadata": {},
   "outputs": [],
   "source": [
    "plot_path = 'plots/Task2/'\n",
    "index_to_variable = {0 : 'cart_location', 1 : 'cart_velocity', 2 : 'pole_angle', 3 : 'pole_velocity', 4 : 'action'}\n",
    "index_pair_list = [[0,1],[0,2],[0,3],[1,2],[1,3],[2,3],[0,4],[1,4],[2,4],[3,4]]\n",
    "no_samples = 20\n",
    "x_range_for_index = {0 : np.linspace(-5,5,no_samples), 1 : np.linspace(-10,10,no_samples), \n",
    "                     2 : np.linspace(-np.pi,np.pi,no_samples), 3 : np.linspace(-15,15,no_samples), \n",
    "                     4 : np.linspace(-20,20,no_samples)}\n",
    "\n",
    "lam = 0.00001\n",
    "n = 2000\n",
    "no_RBC = 320\n",
    "train_proportion = 0.8"
   ]
  },
  {
   "cell_type": "markdown",
   "metadata": {},
   "source": [
    "## plot convergence of model for varying no. basis functions"
   ]
  },
  {
   "cell_type": "code",
   "execution_count": 3,
   "metadata": {
    "scrolled": false
   },
   "outputs": [],
   "source": [
    "# i_range = [10, 20, 40, 80, 160, 320] # list of no. radial basis functions to try\n",
    "# n_range = [500, 1000, 2000, 4000] # list of sizes of dataset to try\n",
    "\n",
    "# fig,axs = plt.subplots(2,2,figsize=(12,9))\n",
    "# for n in n_range:\n",
    "#     x_train, y_train, x_test, y_test = generate_data(n)\n",
    "#     sigma = np.std(x_train, axis=0)\n",
    "    \n",
    "#     RMSE = None\n",
    "    \n",
    "#     for i in i_range:\n",
    "#         alpha, X_i_vals = train_alpha(x_train, y_train, i, sigma, n, train_proportion)\n",
    "#         predictions = predict(x_test, alpha, X_i_vals, sigma)\n",
    "#         RMSE_ = np.array(display_RMSE(predictions, y_test))\n",
    "        \n",
    "#         try:\n",
    "#             RMSE = np.vstack((RMSE, RMSE_))\n",
    "#         except:\n",
    "#             RMSE = RMSE_\n",
    "#     for j in range(4):\n",
    "#         axs[int(round((j+1)/4,0)),j%2].plot(i_range, RMSE[:,j], label='N = {}'.format(str(n)))\n",
    "#         axs[int(round((j+1)/4,0)),j%2].legend()\n",
    "#         axs[int(round((j+1)/4,0)),j%2].set_title(index_to_variable[j])\n",
    "#         axs[int(round((j+1)/4,0)),j%2].set_xlabel('no. basis functions')\n",
    "#         axs[int(round((j+1)/4,0)),j%2].set_ylabel('RMSE')\n",
    "# fig.tight_layout()\n",
    "# # plt.savefig(plot_path + 'convergence_of_non_linear_model')"
   ]
  },
  {
   "cell_type": "markdown",
   "metadata": {},
   "source": [
    "## Plot model predictions vs actual values"
   ]
  },
  {
   "cell_type": "code",
   "execution_count": 4,
   "metadata": {},
   "outputs": [
    {
     "name": "stderr",
     "output_type": "stream",
     "text": [
      "C:\\Users\\Jordan\\Anaconda3\\lib\\site-packages\\autograd\\tracer.py:48: FutureWarning: `rcond` parameter will change to the default of machine precision times ``max(M, N)`` where M and N are the input matrix dimensions.\n",
      "To use the future default and silence this warning we advise to pass `rcond=None`, to keep using the old, explicitly pass `rcond=-1`.\n",
      "  return f_raw(*args, **kwargs)\n"
     ]
    }
   ],
   "source": [
    "x_train, y_train, x_test, y_test = generate_data(n)\n",
    "sigma = np.std(x_train, axis=0)\n",
    "\n",
    "alpha, X_i_vals = train_alpha(x_train, y_train, no_RBC, sigma, n, train_proportion)\n",
    "predictions = predict(x_test, alpha, X_i_vals, sigma)"
   ]
  },
  {
   "cell_type": "code",
   "execution_count": 5,
   "metadata": {},
   "outputs": [],
   "source": [
    "# fig,axs = plt.subplots(2,2,figsize=(12,9))\n",
    "# for j in range(4):\n",
    "#     ul = max(max(predictions[:,j]), max(y_test[:,j]))\n",
    "#     ll = min(min(predictions[:,j]), min(y_test[:,j]))\n",
    "#     axs[int(round((j+1)/4,0)),j%2].scatter(predictions[:,j], y_test[:,j])\n",
    "#     axs[int(round((j+1)/4,0)),j%2].plot([ll,ul],[ll,ul], color='g')\n",
    "#     axs[int(round((j+1)/4,0)),j%2].set_title(index_to_variable[j])\n",
    "#     axs[int(round((j+1)/4,0)),j%2].set_xlabel('prediction')\n",
    "#     axs[int(round((j+1)/4,0)),j%2].set_ylabel('actual')\n",
    "    \n",
    "#     fig.tight_layout()\n",
    "    \n",
    "# # plt.savefig(plot_path + 'prediction_accuracy_with_action')"
   ]
  },
  {
   "cell_type": "markdown",
   "metadata": {},
   "source": [
    "## Plot contours for non linear model"
   ]
  },
  {
   "cell_type": "code",
   "execution_count": 6,
   "metadata": {
    "scrolled": true
   },
   "outputs": [],
   "source": [
    "# for index_pair in index_pair_list:\n",
    "#     plot_y_contour_as_difference_in_x(x_test[0], index_pair, range_x_pair_finder(index_pair, x_range_for_index), \n",
    "#                                       index_to_variable, dynamics='predicted', model=predict, alpha=alpha, \n",
    "#                                       X_i_vals=X_i_vals, sigma=sigma)\n",
    "# #     plt.savefig(plot_path+'contour_plot_predictions_with_action'+str(index_pair))\n",
    "# #     plt.close()"
   ]
  },
  {
   "cell_type": "markdown",
   "metadata": {},
   "source": [
    "## Testing different values of lambda"
   ]
  },
  {
   "cell_type": "code",
   "execution_count": 7,
   "metadata": {},
   "outputs": [],
   "source": [
    "# n = 500\n",
    "# x_train, y_train, x_test, y_test = generate_data(n)\n",
    "# sigma = np.std(x_train, axis=0)\n",
    "# initial_x = x_test[0]\n",
    "\n",
    "# RMSE_data = []\n",
    "# for lam in [0.1**i for i in range(7)]:\n",
    "#     alpha, X_i_vals = train_alpha(x_train, y_train, 40, sigma, n, train_proportion, lam=lam)\n",
    "\n",
    "#     prediction_history, y_history = project_x_using_model(x_test[0], predict, steps=10, remap_angle=False, alpha=alpha, \n",
    "#                                                            X_i_vals=X_i_vals, sigma=sigma)\n",
    "#     RMSE_data.append(display_RMSE(prediction_history, y_history))\n",
    "    \n",
    "# RMSE_data = np.array(RMSE_data)\n",
    "\n",
    "# fig,ax = plt.subplots(1,1,figsize=(8,6))\n",
    "# for j in range(4):\n",
    "#     ax.plot([0.1**i for i in range(7)], RMSE_data[:,j], label=index_to_variable[j])\n",
    "# ax.legend()\n",
    "# ax.set_xscale('log')\n",
    "# ax.set_xlabel('lambda value')\n",
    "# ax.set_ylabel('RMSE')\n",
    "# ax.set_title('RMSE error for different values of lambda')\n",
    "# # plt.savefig(plot_path + 'RMSE_different_lambda')"
   ]
  },
  {
   "cell_type": "markdown",
   "metadata": {},
   "source": [
    "## Rollout with model prediction"
   ]
  },
  {
   "cell_type": "code",
   "execution_count": 8,
   "metadata": {
    "scrolled": false
   },
   "outputs": [],
   "source": [
    "# steps = 10\n",
    "\n",
    "# oscillating_initial_condition = np.array([x_test[0][i] if i != 3 else np.random.uniform(5,10) for i in range(4)])\n",
    "# print(oscillating_initial_condition)\n",
    "\n",
    "# sigma = np.std(x_train, axis=0)\n",
    "# alpha, X_i_vals = train_alpha(x_train, y_train, no_RBC, sigma, n, train_proportion)\n",
    "\n",
    "# prediction_history, y_history = project_x_using_model(x_test[0], predict, steps=steps, remap_angle=False, \n",
    "#                                                       compound_predictions=False, alpha=alpha, \n",
    "#                                                       X_i_vals=X_i_vals, sigma=sigma)\n",
    "\n",
    "# prediction_history[:,2] = np.array([remap_angle(angle) for angle in prediction_history[:,2]])\n",
    "# y_history[:,2] = np.array([remap_angle(angle) for angle in y_history[:,2]])\n",
    "\n",
    "# plot_prediction_vs_actual_over_time(prediction_history, y_history, title='Initial Conditions: {}'.format(x_test[0]))\n",
    "# # plt.savefig(plot_path + 'model_rollout_prediction_with_action_{}_steps'.format(steps))"
   ]
  },
  {
   "cell_type": "markdown",
   "metadata": {},
   "source": [
    "## Model performance scanning over 1 variable"
   ]
  },
  {
   "cell_type": "code",
   "execution_count": 9,
   "metadata": {},
   "outputs": [],
   "source": [
    "# plot_y_scans(x_test[0], index_to_variable, x_range_for_index, predict, alpha=alpha, \n",
    "#              X_i_vals=X_i_vals, sigma=sigma)\n",
    "# # plt.savefig(plot_path + 'model_accuracy_scan_over_1_variable_with_action')"
   ]
  },
  {
   "cell_type": "markdown",
   "metadata": {},
   "source": [
    "## Introducing the loss function"
   ]
  },
  {
   "cell_type": "code",
   "execution_count": 10,
   "metadata": {},
   "outputs": [],
   "source": [
    "# fig, axs = plt.subplots(2,2, figsize=(12,9))\n",
    "# total_loss = np.zeros(20)\n",
    "# for j in range(4):\n",
    "#     zer = [0,0,0,0]\n",
    "#     x_list = []\n",
    "#     for i in np.linspace(0,2,20):\n",
    "#         x_ = zer.copy()\n",
    "#         x_[j] = i\n",
    "#         x_list.append(x_)\n",
    "        \n",
    "#     axs[int(round((j+1)/4,0)),j%2].plot(np.linspace(0,2,20), [loss(x_) for x_ in x_list])\n",
    "#     axs[int(round((j+1)/4,0)),j%2].set_xlabel('function value')\n",
    "#     axs[int(round((j+1)/4,0)),j%2].set_ylabel('loss')\n",
    "#     axs[int(round((j+1)/4,0)),j%2].set_title(index_to_variable[j])\n",
    "#     total_loss += np.array([loss(x_) for x_ in x_list])\n",
    "# fig.tight_layout()\n",
    "# # plt.plot([i for i in np.linspace(0,2,20)], total_loss, label='sum of all loss')\n",
    "# # plt.legend()\n",
    "# # plt.savefig(plot_path + 'original_loss_function')"
   ]
  },
  {
   "cell_type": "code",
   "execution_count": 11,
   "metadata": {},
   "outputs": [],
   "source": [
    "# steps = 30\n",
    "# loss_history, y_history = project_loss([0,0,0,0.5,0.0], steps = steps)\n",
    "\n",
    "# plt.plot([i for i in range(steps+1)], loss_history)\n",
    "# plt.title('loss function over initial conditions: [0,0,0,0.5]')\n",
    "# plt.xlabel('time steps')\n",
    "# plt.ylabel('loss')\n",
    "# # plt.savefig(plot_path + 'new_loss_function_over_time')"
   ]
  },
  {
   "cell_type": "code",
   "execution_count": 12,
   "metadata": {
    "scrolled": false
   },
   "outputs": [],
   "source": [
    "# for index_pair in [index_pair for index_pair in index_pair_list if 4 not in index_pair ]:\n",
    "#     x_ = np.zeros(5)\n",
    "#     x_[index_pair] += 0.1\n",
    "#     plot_loss_contours(x_, [0,0,0,0], index_pair, [np.linspace(-10,10,10)]*2)\n",
    "# #     plt.savefig(plot_path + 'loss_contours_scanning_p_values')\n",
    "#     plt.show()\n"
   ]
  },
  {
   "cell_type": "markdown",
   "metadata": {},
   "source": [
    "### Optimise the linear matrix P"
   ]
  },
  {
   "cell_type": "code",
   "execution_count": 13,
   "metadata": {},
   "outputs": [],
   "source": [
    "# linear_training_data = [0,0,0.01,0,0]\n",
    "# kwargs_ = {'parameter_to_be_optimised':'p', 'linear':True, 'model_predictive_control':False,\n",
    "#           'sig_':[1,1,0.5,0.5]}"
   ]
  },
  {
   "cell_type": "code",
   "execution_count": 14,
   "metadata": {
    "scrolled": true
   },
   "outputs": [],
   "source": [
    "# p_start = np.random.uniform(-1,1,4)\n",
    "# p = scipy.optimize.minimize(training_loss, p_start, \n",
    "#                         args=(linear_training_data, kwargs_), \n",
    "#                               options={'disp':True})['x']\n",
    "# p, p_start"
   ]
  },
  {
   "cell_type": "markdown",
   "metadata": {},
   "source": [
    "for initial_x values any larger than roughly 0.5, the function converges on a local minimum of [0,0,0,0].\n",
    "\n",
    "for initial_x values in the range -0.5, 0.5, the function converges on suitable values of p.\n",
    "\n",
    "Values found independent of start points, unless start points are outside the range -1 to 1"
   ]
  },
  {
   "cell_type": "markdown",
   "metadata": {},
   "source": [
    "## Train loss sig values using linear model"
   ]
  },
  {
   "cell_type": "code",
   "execution_count": 15,
   "metadata": {},
   "outputs": [],
   "source": [
    "# linear_training_data = np.random.normal(0,0.2,(10,5))\n",
    "# kwargs_ = {'parameter_to_be_optimised':'loss_sig_value', 'linear':True, \n",
    "#            'model_predictive_control':False, \n",
    "#            'p':np.array([-0.06139608, -0.03320714,  1.96606844,  0.29200164]),\n",
    "#           'alpha':[1,1,0.5,0.5]}\n",
    "\n",
    "# loss_sig_start = np.array([0.5,0.5,0.5,0.5])\n",
    "# loss_sig = scipy.optimize.minimize(training_loss, loss_sig_start, \n",
    "#                         args=(linear_training_data, kwargs_))['x']\n",
    "# loss_sig, loss_sig_start"
   ]
  },
  {
   "cell_type": "code",
   "execution_count": 16,
   "metadata": {},
   "outputs": [],
   "source": [
    "# loss_sig = np.array([ 56.56369296,  94.61970037,  82.14352495, 111.14785428])"
   ]
  },
  {
   "cell_type": "markdown",
   "metadata": {},
   "source": [
    "## Control against real dynamics"
   ]
  },
  {
   "cell_type": "code",
   "execution_count": 17,
   "metadata": {},
   "outputs": [],
   "source": [
    "# steps = 30\n",
    "# print('p:', p)\n",
    "\n",
    "# x_ = [0,0,.01,0,0]\n",
    "# uc_ = x_.copy()\n",
    "# x_history = [x_.copy()]\n",
    "# uncontrolled_history = [uc_.copy()]\n",
    "# color_list = ['C{}--'.format(i) for i in range(4)]\n",
    "\n",
    "# for step in range(steps):\n",
    "#     action_ = 20 * np.tanh(np.dot(p, x_[:-1])/20)\n",
    "#     x_[-1] = action_\n",
    "#     x_ = np.array(move_cart(x_, steps=1, display_plots=False, remap_angle=True))\n",
    "#     uc_ = np.array(move_cart(uc_, steps=1, display_plots=False, remap_angle=True)) \n",
    "#     x_history.append(x_)\n",
    "#     uncontrolled_history.append(uc_)\n",
    "    \n",
    "# x_history = np.array(x_history)\n",
    "# uncontrolled_history = np.array(uncontrolled_history)\n",
    "\n",
    "# fig, ax = plt.subplots(1, 1, figsize=(8,6))\n",
    "\n",
    "# for i in [0,1,2,3]:\n",
    "#     ax.plot([i for i in range(steps+1)], [x[i] for x in x_history], label=index_to_variable[i])\n",
    "# #     ax.plot([i for i in range(steps+1)], [uc[i] for uc in uncontrolled_history], color_list[i], \n",
    "# #             label='uncontrolled {}'.format(index_to_variable[i]))\n",
    "# # ax.set_ylim(-3,3)\n",
    "# ax.set_title('linear control stabilising pole initial_conditions: {}'.format(np.round(x_history[0][:-1],3)))\n",
    "# ax.legend()\n",
    "# fig.tight_layout()\n",
    "# # plt.savefig(plot_path + 'linear_control_pole_stabilising_real_dynamics_rollout')"
   ]
  },
  {
   "cell_type": "markdown",
   "metadata": {},
   "source": [
    "clealy this linear policy is quite effective over a small number of steps and for a very small initial condition"
   ]
  },
  {
   "cell_type": "markdown",
   "metadata": {},
   "source": [
    "## Control against predicted dynamics (non linear model)"
   ]
  },
  {
   "cell_type": "code",
   "execution_count": 18,
   "metadata": {},
   "outputs": [],
   "source": [
    "# steps = 10\n",
    "# print('p:', p)\n",
    "\n",
    "# x_ = [0,0,0.01,0,0]\n",
    "# x_history = [x_.copy()]\n",
    "# action_ = 20 * np.tanh(np.dot(p, x_[:-1]))\n",
    "\n",
    "# for step in range(steps):\n",
    "#     action_ = 20 * np.tanh(np.dot(p, x_[:-1]))\n",
    "#     x_[-1] = action_\n",
    "#     x_ = predict(np.array(x_), alpha, X_i_vals, sigma)[0].tolist()\n",
    "#     x_history.append(x_)\n",
    "    \n",
    "# x_history = np.array(x_history)\n",
    "\n",
    "# fig, ax = plt.subplots(1, 1)\n",
    "\n",
    "# for i in [0,1,2,3]:\n",
    "#     ax.plot([i for i in range(steps+1)], [x[i] for x in x_history], label=index_to_variable[i])\n",
    "# ax.set_title('linear control stabilising pole initial_conditions: {}'.format(np.round(x_history[0][:-1],3)))\n",
    "# ax.legend()\n",
    "# fig.tight_layout()\n",
    "# # plt.savefig(plot_path + 'linear_control_pole_stabilising_model_predictions_rollout')"
   ]
  },
  {
   "cell_type": "markdown",
   "metadata": {},
   "source": [
    "## Task 2.4\n",
    "### Model Predictive Control"
   ]
  },
  {
   "cell_type": "code",
   "execution_count": 21,
   "metadata": {},
   "outputs": [],
   "source": [
    "linear_training_data = np.array([0,0,0.01,0,0])\n",
    "rollout_prediction_model_attr = {'alpha':alpha, 'X_i_vals':X_i_vals, 'sigma':sigma}\n",
    "kwargs_ = {'parameter_to_be_optimised':'p', 'linear':True, 'model_predictive_control':True,\n",
    "          'rollout_prediction_model':predict, 'rollout_prediction_model_attr':rollout_prediction_model_attr,\n",
    "          'alpha':[1,1,0.5,0.5], 'sig':[1,1,0.5,0.5]}"
   ]
  },
  {
   "cell_type": "code",
   "execution_count": 22,
   "metadata": {},
   "outputs": [
    {
     "data": {
      "text/plain": [
       "array([ 1.19994922,  3.24887742, 17.81665345, -2.05162538])"
      ]
     },
     "execution_count": 22,
     "metadata": {},
     "output_type": "execute_result"
    }
   ],
   "source": [
    "p_mpc = scipy.optimize.minimize(training_loss, \n",
    "                        np.random.randint(0,1,4), \n",
    "                        args=(linear_training_data, kwargs_))['x']\n",
    "p_mpc"
   ]
  },
  {
   "cell_type": "code",
   "execution_count": 24,
   "metadata": {},
   "outputs": [
    {
     "data": {
      "image/png": "[encoded data removed]",
      "text/plain": [
       "<Figure size 432x288 with 1 Axes>"
      ]
     },
     "metadata": {
      "needs_background": "light"
     },
     "output_type": "display_data"
    }
   ],
   "source": [
    "x_ = [0,0,0.01,0,0]\n",
    "x_history = [x_.copy()]\n",
    "steps = 15\n",
    "\n",
    "for step in range(steps):\n",
    "    action_ = np.dot(p_mpc, x_[:-1])\n",
    "    x_[-1] = action_\n",
    "    x_ = np.array(move_cart(x_, steps=1, display_plots=False, remap_angle=False))  \n",
    "    x_history.append(x_)\n",
    "    \n",
    "x_history = np.array(x_history)\n",
    "\n",
    "fig, ax = plt.subplots(1, 1)\n",
    "\n",
    "for i in [0,1,2,3]:\n",
    "    ax.plot([i for i in range(steps+1)], [x[i] for x in x_history], label=index_to_variable[i])\n",
    "ax.set_title('linear control stabilising pole initial_conditions: {}'.format(np.round(x_history[0][:-1],3)))\n",
    "ax.legend()\n",
    "fig.tight_layout()\n",
    "# plt.savefig(plot_path + 'model_predictive_control')"
   ]
  },
  {
   "cell_type": "code",
   "execution_count": null,
   "metadata": {},
   "outputs": [],
   "source": []
  }
 ],
 "metadata": {
  "kernelspec": {
   "display_name": "Python 3",
   "language": "python",
   "name": "python3"
  },
  "language_info": {
   "codemirror_mode": {
    "name": "ipython",
    "version": 3
   },
   "file_extension": ".py",
   "mimetype": "text/x-python",
   "name": "python",
   "nbconvert_exporter": "python",
   "pygments_lexer": "ipython3",
   "version": "3.7.3"
  }
 },
 "nbformat": 4,
 "nbformat_minor": 4
}
