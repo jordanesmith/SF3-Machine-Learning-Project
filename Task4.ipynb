{
 "cells": [
  {
   "cell_type": "code",
   "execution_count": 1,
   "metadata": {},
   "outputs": [],
   "source": [
    "%matplotlib inline\n",
    "from CartPole import *\n",
    "import numpy as np\n",
    "import matplotlib.pyplot as plt\n",
    "import scipy.optimize\n",
    "from sklearn import linear_model\n",
    "import math"
   ]
  },
  {
   "cell_type": "markdown",
   "metadata": {},
   "source": [
    "# Task 4\n",
    "## Defining action as non-linear combination of system state variables"
   ]
  },
  {
   "cell_type": "code",
   "execution_count": 2,
   "metadata": {},
   "outputs": [],
   "source": [
    "n=500\n",
    "no_RBC = 5\n",
    "x_train, y_train, x_test, y_test = generate_data(n) # TODO change these to values more evenly spaced\n",
    "index_to_variable = {0 : 'cart_location', 1 : 'cart_velocity', 2 : 'pole_angle', 3 : 'pole_velocity', 4 : 'action'}\n",
    "\n",
    "w_i_start = np.array([np.random.uniform(-1,1) for i in range(no_RBC)])\n",
    "W_ = np.random.uniform(-1,1,(4,4))\n",
    "W_start = np.matmul(W_.T,W_) # This is to ensure it is symmetric\n",
    "X_i_vals = x_train[np.random.randint(0,n*0.8,len(w_i_start))]"
   ]
  },
  {
   "cell_type": "code",
   "execution_count": 3,
   "metadata": {},
   "outputs": [
    {
     "data": {
      "text/plain": [
       "array([ 1.63092551e-01, -6.32584451e-04, -7.54628794e-01, -6.81970456e-01,\n",
       "        1.63563530e-01])"
      ]
     },
     "execution_count": 3,
     "metadata": {},
     "output_type": "execute_result"
    }
   ],
   "source": [
    "w_i_start"
   ]
  },
  {
   "cell_type": "code",
   "execution_count": 4,
   "metadata": {},
   "outputs": [
    {
     "data": {
      "text/plain": [
       "array([-6.35711372e+03, -6.32584451e-04, -7.54628794e-01, -6.81970456e-01,\n",
       "        1.63563530e-01])"
      ]
     },
     "execution_count": 4,
     "metadata": {},
     "output_type": "execute_result"
    }
   ],
   "source": [
    "kwargs_ = {'linear':False, 'w_i':w_i_start, 'X_i_vals':X_i_vals, \n",
    "           'W':W_start, 'parameter_to_be_optimised': 'w_i', \n",
    "           'model_predictive_control':False}\n",
    "\n",
    "w_i = scipy.optimize.minimize(training_loss, w_i_start, \n",
    "                        args=(x_train, kwargs_))['x']\n",
    "w_i"
   ]
  },
  {
   "cell_type": "code",
   "execution_count": 5,
   "metadata": {},
   "outputs": [
    {
     "name": "stderr",
     "output_type": "stream",
     "text": [
      "C:\\Users\\Jordan\\Anaconda3\\lib\\site-packages\\autograd\\tracer.py:48: RuntimeWarning: overflow encountered in exp\n",
      "  return f_raw(*args, **kwargs)\n",
      "D:\\OneDrive - University of Cambridge\\11A\\SF3_Project\\CartPole.py:574: RuntimeWarning: overflow encountered in double_scalars\n",
      "  return 20 * np.tanh(np.sum(np.array([w_i[i] * policy_exponent(X, X_i_vals[i], W) for i in range(int(w_i.size/4))]))) #TODO vectorise this\n",
      "C:\\Users\\Jordan\\Anaconda3\\lib\\site-packages\\autograd\\tracer.py:48: RuntimeWarning: overflow encountered in exp\n",
      "  return f_raw(*args, **kwargs)\n"
     ]
    },
    {
     "data": {
      "text/plain": [
       "array([[-1.50782191e+01,  3.35690801e+02,  1.83976315e+03,\n",
       "         3.42359307e+02],\n",
       "       [ 3.35690801e+02,  2.58468715e+00, -3.86492139e+02,\n",
       "        -7.86329294e+01],\n",
       "       [ 1.83976315e+03, -3.86492139e+02, -5.31112925e+03,\n",
       "        -8.59177516e+02],\n",
       "       [ 3.42359307e+02, -7.86329294e+01, -8.59177516e+02,\n",
       "        -1.27954199e+02]])"
      ]
     },
     "execution_count": 5,
     "metadata": {},
     "output_type": "execute_result"
    }
   ],
   "source": [
    "# w_i = [-2.37303189e-09, -8.83855574e-05, -9.36626028e-05, -8.40484382e-05]\n",
    "kwargs_ = {'linear':False, 'w_i':w_i, 'X_i_vals':X_i_vals, \n",
    "           'W':W_start, 'parameter_to_be_optimised': 'W',\n",
    "          'model_predictive_control':False}\n",
    "\n",
    "W = scipy.optimize.minimize(training_loss, W_start, \n",
    "                        args=(x_train, kwargs_))['x']\n",
    "\n",
    "W = np.reshape(W, (-1, 4))\n",
    "W"
   ]
  },
  {
   "cell_type": "code",
   "execution_count": 6,
   "metadata": {},
   "outputs": [],
   "source": [
    "W = np.array([[ 1.50918096,  0.58386435, -0.84052149,  0.03404978],\n",
    "       [ 0.58386435, -0.64206911,  0.76192208, -0.18924572],\n",
    "       [-0.84052149,  0.76192208,  1.11448343,  1.72721012],\n",
    "       [ 0.03404978, -0.18924572,  1.72721012,  1.20218808]])\n",
    "\n",
    "w_i = np.array([ 3.48555800e+02, -6.37890203e-01, -7.06130398e-02, -2.73892480e-01,\n",
    "       -6.94948167e-01])"
   ]
  },
  {
   "cell_type": "code",
   "execution_count": 7,
   "metadata": {},
   "outputs": [],
   "source": [
    "def project_rollout_non_linear_policy(initial_x, steps=1, **kwargs):\n",
    "    \n",
    "    cp = CartPole()\n",
    "    cp.cart_location, cp.cart_velocity, cp.pole_angle, cp.pole_velocity = initial_x.copy()\n",
    "    x_ = initial_x.copy()\n",
    "    x_history = [x_]\n",
    "    \n",
    "    for step in range(steps):\n",
    "        action_ = 20 * math.tanh((non_linear_policy(kwargs['w_i'], x_, kwargs['X_i_vals'], kwargs['W'])))\n",
    "        print(action_)\n",
    "        cp.performAction(action_)\n",
    "        x_ = np.array([cp.cart_location, cp.cart_velocity, cp.pole_angle, cp.pole_velocity])\n",
    "        x_history.append(x_)\n",
    "        \n",
    "    return x_history"
   ]
  },
  {
   "cell_type": "code",
   "execution_count": 8,
   "metadata": {},
   "outputs": [
    {
     "name": "stdout",
     "output_type": "stream",
     "text": [
      "6.647963277832775e-26\n",
      "1.963835553532429e-34\n",
      "2.938142889739197e-64\n",
      "1.369040161787992e-141\n",
      "7.197100143183961e-169\n",
      "2.3418975296905452e-119\n",
      "2.5548333596749053e-87\n",
      "1.5209357808061e-58\n",
      "1.3743667601706894e-17\n",
      "20.0\n"
     ]
    },
    {
     "data": {
      "text/plain": [
       "[<matplotlib.lines.Line2D at 0x23e1b58c3c8>]"
      ]
     },
     "execution_count": 8,
     "metadata": {},
     "output_type": "execute_result"
    },
    {
     "data": {
      "image/png": "[encoded data removed]",
      "text/plain": [
       "<Figure size 432x288 with 1 Axes>"
      ]
     },
     "metadata": {
      "needs_background": "light"
     },
     "output_type": "display_data"
    }
   ],
   "source": [
    "steps = 10\n",
    "x_history = project_rollout_non_linear_policy(np.array([0,0,0.1,0]), steps=steps, w_i=w_i, X_i_vals=X_i_vals, W=W)\n",
    "plt.plot([i for i in range(len(x_history))], [loss(x_) for x_ in x_history])"
   ]
  },
  {
   "cell_type": "code",
   "execution_count": 9,
   "metadata": {},
   "outputs": [
    {
     "data": {
      "text/plain": [
       "<matplotlib.legend.Legend at 0x23e1bd8f518>"
      ]
     },
     "execution_count": 9,
     "metadata": {},
     "output_type": "execute_result"
    },
    {
     "data": {
      "image/png": "[encoded data removed]",
      "text/plain": [
       "<Figure size 432x288 with 1 Axes>"
      ]
     },
     "metadata": {
      "needs_background": "light"
     },
     "output_type": "display_data"
    }
   ],
   "source": [
    "fig, ax = plt.subplots(1, 1)\n",
    "\n",
    "for i in [0,1,2,3]:\n",
    "    ax.plot([i for i in range(steps+1)], [x[i] for x in x_history], label=index_to_variable[i])\n",
    "ax.legend()\n"
   ]
  },
  {
   "cell_type": "code",
   "execution_count": null,
   "metadata": {},
   "outputs": [],
   "source": []
  }
 ],
 "metadata": {
  "kernelspec": {
   "display_name": "Python 3",
   "language": "python",
   "name": "python3"
  },
  "language_info": {
   "codemirror_mode": {
    "name": "ipython",
    "version": 3
   },
   "file_extension": ".py",
   "mimetype": "text/x-python",
   "name": "python",
   "nbconvert_exporter": "python",
   "pygments_lexer": "ipython3",
   "version": "3.7.3"
  }
 },
 "nbformat": 4,
 "nbformat_minor": 4
}
